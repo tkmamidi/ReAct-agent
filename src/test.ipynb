{
 "cells": [
  {
   "cell_type": "code",
   "execution_count": 7,
   "metadata": {},
   "outputs": [],
   "source": [
    "from neo4j import GraphDatabase"
   ]
  },
  {
   "cell_type": "code",
   "execution_count": 8,
   "metadata": {},
   "outputs": [],
   "source": [
    "uri = \"bolt://tarun.servebeer.com/neo4j-api\"  # Update with your Neo4j instance URI\n",
    "user = \"neo4j\"  # Update with your Neo4j username\n",
    "password = \"password\"  # Update with your Neo4j password\n",
    "driver = GraphDatabase.driver(uri, auth=(user, password))"
   ]
  },
  {
   "cell_type": "code",
   "execution_count": 28,
   "metadata": {},
   "outputs": [],
   "source": [
    "records, summary, keys = driver.execute_query(\n",
    "    \"MATCH (d:drug {name: 'Prednisolone'}) RETURN d\",\n",
    "    routing_=\"r\",  # short for neo4j.RoutingControl.READ\n",
    "    database_=\"neo4j\",\n",
    ")"
   ]
  },
  {
   "cell_type": "code",
   "execution_count": 30,
   "metadata": {},
   "outputs": [
    {
     "data": {
      "text/plain": [
       "[<Record d=<Node element_id='4:2c8d7fc8-51ee-42dc-b46d-a0f83c2fb7a7:15364' labels=frozenset({'drug'}) properties={'name': 'Prednisolone', 'source': 'DrugBank', 'id': 'DB00860'}>>]"
      ]
     },
     "execution_count": 30,
     "metadata": {},
     "output_type": "execute_result"
    }
   ],
   "source": [
    "records"
   ]
  },
  {
   "cell_type": "code",
   "execution_count": 13,
   "metadata": {},
   "outputs": [
    {
     "data": {
      "text/plain": [
       "4"
      ]
     },
     "execution_count": 13,
     "metadata": {},
     "output_type": "execute_result"
    }
   ],
   "source": [
    "summary.result_available_after"
   ]
  },
  {
   "cell_type": "code",
   "execution_count": 14,
   "metadata": {},
   "outputs": [
    {
     "data": {
      "text/plain": [
       "['p']"
      ]
     },
     "execution_count": 14,
     "metadata": {},
     "output_type": "execute_result"
    }
   ],
   "source": [
    "keys"
   ]
  },
  {
   "cell_type": "code",
   "execution_count": 23,
   "metadata": {},
   "outputs": [],
   "source": [
    "# !pip install -U langchain-anthropic"
   ]
  },
  {
   "cell_type": "code",
   "execution_count": 1,
   "metadata": {},
   "outputs": [],
   "source": [
    "from react_agent.graph import graph\n",
    "from langchain_core.messages import HumanMessage\n",
    "import asyncio\n",
    "from dotenv import load_dotenv"
   ]
  },
  {
   "cell_type": "code",
   "execution_count": 2,
   "metadata": {},
   "outputs": [
    {
     "data": {
      "text/plain": [
       "True"
      ]
     },
     "execution_count": 2,
     "metadata": {},
     "output_type": "execute_result"
    }
   ],
   "source": [
    "load_dotenv()"
   ]
  },
  {
   "cell_type": "code",
   "execution_count": 21,
   "metadata": {},
   "outputs": [],
   "source": [
    "async def get_stream(prompt):\n",
    "    return await graph.ainvoke({\"messages\": [HumanMessage(content=prompt)]})"
   ]
  },
  {
   "cell_type": "code",
   "execution_count": 24,
   "metadata": {},
   "outputs": [
    {
     "name": "stderr",
     "output_type": "stream",
     "text": [
      "/var/folders/x5/1jk7xryd0rg4d710y586kmvh0000gp/T/ipykernel_8452/1832772076.py:1: RuntimeWarning: coroutine 'get_stream' was never awaited\n",
      "  stream = await get_stream(\"what is the weather in alabama today?\")\n",
      "RuntimeWarning: Enable tracemalloc to get the object allocation traceback\n"
     ]
    }
   ],
   "source": [
    "stream = await get_stream(\"what is the weather in alabama today?\")"
   ]
  },
  {
   "cell_type": "code",
   "execution_count": 25,
   "metadata": {},
   "outputs": [
    {
     "data": {
      "text/plain": [
       "{'messages': [HumanMessage(content='what is the weather in alabama today?', additional_kwargs={}, response_metadata={}, id='71a0b28a-930f-4517-b902-554ea87de2c2'),\n",
       "  AIMessage(content='', additional_kwargs={'tool_calls': [{'id': 'call_jkQPcXLMIul01i0ZmkFd7T6j', 'function': {'arguments': '{\"query\":\"current weather in Alabama\"}', 'name': 'search'}, 'type': 'function'}], 'refusal': None}, response_metadata={'token_usage': {'completion_tokens': 16, 'prompt_tokens': 1195, 'total_tokens': 1211, 'completion_tokens_details': {'reasoning_tokens': 0}}, 'model_name': 'gpt-4o-mini-2024-07-18', 'system_fingerprint': 'fp_1bb46167f9', 'finish_reason': 'tool_calls', 'logprobs': None}, id='run-1a306447-8cff-4ffd-9d38-af7926ad5177-0', tool_calls=[{'name': 'search', 'args': {'query': 'current weather in Alabama'}, 'id': 'call_jkQPcXLMIul01i0ZmkFd7T6j', 'type': 'tool_call'}], usage_metadata={'input_tokens': 1195, 'output_tokens': 16, 'total_tokens': 1211}),\n",
       "  ToolMessage(content='[{\"url\": \"https://www.weatherapi.com/\", \"content\": \"{\\'location\\': {\\'name\\': \\'Alabama\\', \\'region\\': \\'New York\\', \\'country\\': \\'USA United States of America\\', \\'lat\\': 43.0, \\'lon\\': -78.18, \\'tz_id\\': \\'America/New_York\\', \\'localtime_epoch\\': 1726851818, \\'localtime\\': \\'2024-09-20 13:03\\'}, \\'current\\': {\\'last_updated_epoch\\': 1726851600, \\'last_updated\\': \\'2024-09-20 13:00\\', \\'temp_c\\': 23.9, \\'temp_f\\': 75.0, \\'is_day\\': 1, \\'condition\\': {\\'text\\': \\'Partly cloudy\\', \\'icon\\': \\'//cdn.weatherapi.com/weather/64x64/day/116.png\\', \\'code\\': 1003}, \\'wind_mph\\': 4.0, \\'wind_kph\\': 6.5, \\'wind_degree\\': 82, \\'wind_dir\\': \\'E\\', \\'pressure_mb\\': 1015.0, \\'pressure_in\\': 29.97, \\'precip_mm\\': 0.0, \\'precip_in\\': 0.0, \\'humidity\\': 64, \\'cloud\\': 25, \\'feelslike_c\\': 25.5, \\'feelslike_f\\': 77.9, \\'windchill_c\\': 25.4, \\'windchill_f\\': 77.7, \\'heatindex_c\\': 26.8, \\'heatindex_f\\': 80.3, \\'dewpoint_c\\': 19.0, \\'dewpoint_f\\': 66.2, \\'vis_km\\': 16.0, \\'vis_miles\\': 9.0, \\'uv\\': 7.0, \\'gust_mph\\': 4.6, \\'gust_kph\\': 7.5}}\"}, {\"url\": \"https://www.wbrc.com/2024/09/20/first-alert-weather-quiet-weekend-ahead-all-eyes-gulf-next-week/\", \"content\": \"Putting Alabama to Work. LawCall. Money Matters. Ask the Expert. Business Builder. Good Day Alabama. ... Sep. 20, 2024 at 6:32 AM CDT | Updated: seconds ago BIRMINGHAM, Ala. - Good ... First Alert Weather: 11am update: 09-19-2024. WBRC First Alert Weather - Good Day Update. First Alert Weather - Evening Update ...\"}, {\"url\": \"https://ema.alabama.gov/2024/09/13/potential-flooding-and-severe-weather-friday/\", \"content\": \"By Jim Stefkovich, Meteorologist, Alabama Emergency Management Agency CLANTON - Friday, 6:00 am September 13, 2024 Numerous showers and thunderstorms will develop across all but the southwestern sections of Alabama today. A few damaging wind gusts and/or brief tornadoes are possible across the northern, central and eastern portions of the state mainly from 1 pm…\"}, {\"url\": \"https://www.accuweather.com/en/us/alabama/current-weather-maps\", \"content\": \"See Alabama current conditions with our interactive weather map. Providing your local temperature, and the temperatures for the surrounding areas, locally and nationally.\"}, {\"url\": \"https://en.climate-data.org/north-america/united-states-of-america/alabama-39/r/september-9/\", \"content\": \"September in Alabama brings warm temperatures and a hint of the coming fall season. In Montgomery, the average temperature is around 77.5°F (25.3°C), with highs reaching up to 87°F (30.6°C) on warmer days. The nights are cooler, with lows averaging about 69°F (20.7°C).\"}, {\"url\": \"https://www.al.com/weather/2024/09/double-hurricane-anniversary-in-alabama-sally-and-ivan.html\", \"content\": \"Tornado threat could increase overnight for south Alabama Sep. 11, 2024, 9:06 p.m. Tropical disturbance off Carolinas could become a named storm Sep. 16, 2024, 7:16 a.m. See more from the weather ...\"}, {\"url\": \"https://www.weather.gov/bmx/\", \"content\": \"NWS\\\\nAll NOAA\\\\nPrivacy Policy\\\\nNWS Birmingham, Alabama\\\\nWeather Forecast Office\\\\nNational Weather Service Forecast Office Birmingham, AL\\\\nLast Map Update: Sun, Mar. 24, 2024 at 5:40:26 pm CDT\\\\nCurrent Hazards\\\\nNational Outlooks\\\\nTropical\\\\nLocal Storm Reports\\\\nPublic Information Statement\\\\nGraphical Hazardous Weather Outlook\\\\nCurrent Conditions\\\\nRegional Highs/Lows/Rainfall\\\\nRegional Weather Roundup\\\\nRivers and Lakes\\\\nDrought Monitor\\\\nForecasts\\\\nFire Weather\\\\nAir Quality\\\\nForecast Discussion\\\\nGraphical Forecasts\\\\nAviation Weather\\\\nClimate and Past Weather\\\\nPast Events\\\\nStorm Data\\\\nTornado Database\\\\nDaily Rainfall Plots\\\\nLocal Climate Data\\\\nTropical Cyclone Reports\\\\nWarnings and Other Products\\\\nTornado Warnings\\\\nSevere Thunderstorm Warnings\\\\nFlash Flood Warnings\\\\nWinter Weather Warnings\\\\nSpecial Weather Statements\\\\nNon-Precipitation Warnings\\\\nFlood/River Flood Warnings\\\\nProductos en EspaÃ±ol\\\\nPrevisiÃ³n de 7 DÃ\\xadas\\\\nConciencia y PreparaciÃ³n\\\\nWeather Safety\\\\nSevere Safety w/ ASL\\\\nNOAA Weather Radio\\\\nAll-Hazards Awareness Booklet\\\\nSevere Weather Preparedness\\\\nSevere Safety Rules\\\\nTornado Safety Rules\\\\nAwareness Weeks\\\\nSevere Weather\\\\nHurricane Preparedness\\\\nSummer Safety Campaign\\\\nWinter Weather\\\\nSpecial Programs\\\\nStorm Spotters (SKYWARN)\\\\n Other Research\\\\nLocal Geographic Information Systems (GIS) Data\\\\nOutreach Activities\\\\nLocal Climatology\\\\nOutreach Materials\\\\nWinter Weather\\\\nAbout Us\\\\nOffice History\\\\nOur Office\\\\nContact Us\\\\nEducation\\\\nSevere Weather Videos\\\\nWinter Products Description\\\\nMicrobursts\\\\nFlood Products Description\\\\nAbout Radar\\\\nUS Dept of Commerce\\\\nNational Oceanic and Atmospheric Administration\\\\nNational Weather Service\\\\nNWS Birmingham, Alabama465 Weathervane RoadCalera, AL 35040205-664-3010Comments? StormReady\\\\nCoCoRaHS\\\\nLocal Research and Outreach\\\\n Please Contact Us. Questions?\"}, {\"url\": \"https://www.timeanddate.com/weather/usa/birmingham/hourly\", \"content\": \"Hourly forecast for Birmingham, Alabama, USA Time Zone News Calendar & Holiday News Time Zones Time Zones Home Time Zone Converter Event Time Announcer Time Zone Map Time Zone Abbreviations Time Changes Worldwide Time Zone News Calendar Calendars Home Calendar 2024 Calendar 2025 Weather Sun & Moon Home Sun Calculator Moon Calculator Eclipse Countdown Calculators Calculators Home Date Pattern Calculator Home \\xa0 Weather \\xa0 USA \\xa0 Birmingham \\xa0 Hour-by-hour Hour-by-Hour Forecast for Birmingham, Alabama, USA Weather 14 Day Forecast Time Zone Weather TodayWeather Hourly14 Day ForecastYesterday/Past WeatherClimate (Averages) See more current weather See Extended Forecast for more weather Show weather on:  Time Weather * Updated Thursday, September 19, 2024 8:03:01 pm Birmingham time - Weather by CustomWeather, © 2024 14 days extended forecast\"}, {\"url\": \"https://forecast.weather.gov/MapClick.php?lat=31.89074400000004&lon=-85.14400039999998\", \"content\": \"Mostly cloudy, with a low around 64. Calm wind. Sunday. A slight chance of showers, then a chance of showers and thunderstorms after 1pm. Partly sunny, with a high near 80. East wind around 5 mph. Chance of precipitation is 30%. Sunday Night. A 20 percent chance of showers. Mostly cloudy, with a low around 64.\"}, {\"url\": \"https://forecast.weather.gov/MapClick.php?lat=33.37530&lon=-86.81900\", \"content\": \"Detailed Forecast. Cloudy, with a low around 70. East wind around 5 mph. A 40 percent chance of showers, mainly after 10am. Cloudy, with a high near 79. Northeast wind 5 to 10 mph. A 20 percent chance of showers before 10pm. Mostly cloudy, with a low around 65. East wind around 5 mph becoming calm in the evening.\"}]', name='search', id='2dd32a3b-b465-45d7-b847-31c65861f652', tool_call_id='call_jkQPcXLMIul01i0ZmkFd7T6j'),\n",
       "  AIMessage(content='Today in Alabama, the weather is partly cloudy with a temperature of approximately 75°F (23.9°C). The humidity is around 64%, and there is no precipitation expected. Winds are coming from the east at about 4 mph. Overall, it feels slightly warmer, around 77.9°F (25.5°C). \\n\\nFor more detailed local forecasts, you may want to check specific weather websites or news outlets.', additional_kwargs={'refusal': None}, response_metadata={'token_usage': {'completion_tokens': 88, 'prompt_tokens': 2989, 'total_tokens': 3077, 'completion_tokens_details': {'reasoning_tokens': 0}}, 'model_name': 'gpt-4o-mini-2024-07-18', 'system_fingerprint': 'fp_1bb46167f9', 'finish_reason': 'stop', 'logprobs': None}, id='run-ff88a075-f0c3-498e-b4f7-7cd1a7ba2825-0', usage_metadata={'input_tokens': 2989, 'output_tokens': 88, 'total_tokens': 3077})]}"
      ]
     },
     "execution_count": 25,
     "metadata": {},
     "output_type": "execute_result"
    }
   ],
   "source": [
    "stream"
   ]
  },
  {
   "cell_type": "code",
   "execution_count": 16,
   "metadata": {},
   "outputs": [
    {
     "name": "stderr",
     "output_type": "stream",
     "text": [
      "/var/folders/x5/1jk7xryd0rg4d710y586kmvh0000gp/T/ipykernel_8452/2315292206.py:1: RuntimeWarning: coroutine 'get_stream' was never awaited\n",
      "  response = await graph.ainvoke(\n",
      "RuntimeWarning: Enable tracemalloc to get the object allocation traceback\n"
     ]
    }
   ],
   "source": [
    "response = await graph.ainvoke(\n",
    "    {\"messages\": [HumanMessage(content=\"what is the weather in alabama today?\")]}\n",
    ")"
   ]
  },
  {
   "cell_type": "code",
   "execution_count": 17,
   "metadata": {},
   "outputs": [
    {
     "data": {
      "text/plain": [
       "{'messages': [HumanMessage(content='what is the weather in alabama today?', additional_kwargs={}, response_metadata={}, id='49e8f7ec-b620-4be7-8418-36cd5f02d047'),\n",
       "  AIMessage(content='', additional_kwargs={'tool_calls': [{'id': 'call_0a39EAh6vTXFZs77pAFihzGy', 'function': {'arguments': '{\"query\":\"current weather in Alabama September 20 2024\"}', 'name': 'search'}, 'type': 'function'}], 'refusal': None}, response_metadata={'token_usage': {'completion_tokens': 22, 'prompt_tokens': 1195, 'total_tokens': 1217, 'completion_tokens_details': {'reasoning_tokens': 0}}, 'model_name': 'gpt-4o-mini-2024-07-18', 'system_fingerprint': 'fp_1bb46167f9', 'finish_reason': 'tool_calls', 'logprobs': None}, id='run-e5940ff9-9717-4220-9a69-048ebb33f2b0-0', tool_calls=[{'name': 'search', 'args': {'query': 'current weather in Alabama September 20 2024'}, 'id': 'call_0a39EAh6vTXFZs77pAFihzGy', 'type': 'tool_call'}], usage_metadata={'input_tokens': 1195, 'output_tokens': 22, 'total_tokens': 1217}),\n",
       "  ToolMessage(content='[{\"url\": \"https://www.weatherapi.com/\", \"content\": \"{\\'location\\': {\\'name\\': \\'Alabama\\', \\'region\\': \\'New York\\', \\'country\\': \\'USA United States of America\\', \\'lat\\': 43.0, \\'lon\\': -78.18, \\'tz_id\\': \\'America/New_York\\', \\'localtime_epoch\\': 1726851590, \\'localtime\\': \\'2024-09-20 12:59\\'}, \\'current\\': {\\'last_updated_epoch\\': 1726850700, \\'last_updated\\': \\'2024-09-20 12:45\\', \\'temp_c\\': 23.9, \\'temp_f\\': 75.0, \\'is_day\\': 1, \\'condition\\': {\\'text\\': \\'Partly cloudy\\', \\'icon\\': \\'//cdn.weatherapi.com/weather/64x64/day/116.png\\', \\'code\\': 1003}, \\'wind_mph\\': 4.3, \\'wind_kph\\': 6.8, \\'wind_degree\\': 78, \\'wind_dir\\': \\'ENE\\', \\'pressure_mb\\': 1015.0, \\'pressure_in\\': 29.97, \\'precip_mm\\': 0.0, \\'precip_in\\': 0.0, \\'humidity\\': 64, \\'cloud\\': 25, \\'feelslike_c\\': 25.6, \\'feelslike_f\\': 78.2, \\'windchill_c\\': 23.9, \\'windchill_f\\': 74.9, \\'heatindex_c\\': 25.3, \\'heatindex_f\\': 77.6, \\'dewpoint_c\\': 19.1, \\'dewpoint_f\\': 66.5, \\'vis_km\\': 16.0, \\'vis_miles\\': 9.0, \\'uv\\': 6.0, \\'gust_mph\\': 4.9, \\'gust_kph\\': 7.9}}\"}, {\"url\": \"https://www.easeweather.com/north-america/united-states/alabama/september\", \"content\": \"Until now, September 2024 in Alabama is cooler than usual, with temperatures averaging 28.7 ° F, this is -2.2 ° F below the typical seasonal average.. The forecast for the next days in Alabama predicts a temperature of 25.3 ° F, which is cooler than the historical average.. In general, the average temperature in Alabama at the beginning of September is 30.6 ° F.\"}, {\"url\": \"https://www.weather25.com/north-america/usa/alabama?page=month&month=September\", \"content\": \"Our weather forecast can give you a great sense of what weather to expect in Alabama in September 2024. If you\\'re planning to visit Alabama in the near future, we highly recommend that you review the 14 day weather forecast for Alabama before you arrive. Temperatures. 84 ° / 66 °. Rainy Days.\"}, {\"url\": \"https://www.easeweather.com/north-america/united-states/alabama/jefferson-county/birmingham/september\", \"content\": \"Until now, September 2024 in Birmingham is cooler than usual, with temperatures averaging 26.6 ° F, this is -3 ° F below the typical seasonal average.. The forecast for the next days in Birmingham predicts temperatures to be around 31 ° F, close to the historical average.. In general, the average temperature in Birmingham at the beginning of September is 30.6 ° F.\"}, {\"url\": \"https://www.weathertab.com/en/c/e/09/united-states/alabama/gulf-shores/\", \"content\": \"Temperature Forecast Normal. Avg High Temps 80 to 95 °F. Avg Low Temps 60 to 75 °F. Explore comprehensive September 2024 weather forecasts for Gulf Shores, including daily high and low temperatures, precipitation risks, and monthly temperature trends. Featuring detailed day-by-day forecasts, dynamic graphs of daily rain probabilities, and ...\"}, {\"url\": \"https://ema.alabama.gov/2024/09/13/potential-flooding-and-severe-weather-friday/\", \"content\": \"By Jim Stefkovich, Meteorologist, Alabama Emergency Management Agency CLANTON - Friday, 6:00 am September 13, 2024 Numerous showers and thunderstorms will develop across all but the southwestern sections of Alabama today. A few damaging wind gusts and/or brief tornadoes are possible across the northern, central and eastern portions of the state mainly from 1 pm…\"}, {\"url\": \"https://ema.alabama.gov/2024/09/10/mobile-and-baldwin-counties-under-a-tropical-storm-watch/\", \"content\": \"By Jim Stefkovich, Meteorologist, Alabama Emergency Management Agency CLANTON - Tuesday, 11:30 am September 10, 2024 The latest track forecast has been moved slightly eastward. As a result, both Mobile and Baldwin counties are now under a Tropical Storm Watch. But, when looking at the forecast cone of uncertainty in the graphic above, notice that…\"}, {\"url\": \"https://en.climate-data.org/north-america/united-states-of-america/alabama-39/r/september-9/\", \"content\": \"September in Alabama brings warm temperatures and a hint of the coming fall season. In Montgomery, the average temperature is around 77.5°F (25.3°C), with highs reaching up to 87°F (30.6°C) on warmer days. The nights are cooler, with lows averaging about 69°F (20.7°C).\"}, {\"url\": \"https://world-weather.info/forecast/usa/birmingham/september-2024/\", \"content\": \"Weather in Birmingham in September 2024 (Alabama) - Detailed Weather Forecast for a Month Weather Weather in Birmingham Weather in Birmingham in September 2024 1 +86°+75° 2 +88°+73° 3 +88°+75° 4 +84°+75° 5 +84°+75° 6 +77°+77° 7 +81°+70° 8 +81°+64° 9 +86°+68° 10 +86°+70° 11 +82°+72° 12 +73°+72° 13 +79°+72° 14 +73°+72° 15 +77°+72° 16 +81°+72° 17 +82°+70° 18 +84°+70° 19 +84°+70° 20 +88°+72° 21 +90°+73° 22 +90°+75° 23 +90°+77° 24 +88°+77° 25 +86°+73° 26 +84°+73° 27 +81°+70° 28 +81°+68° 29 +81°+72° 30 +73°+68° Extended weather forecast in Birmingham Weather in large and nearby cities Weather in Washington, D.C.+73° Montgomery+75° Decatur+77° Sylacauga+72° Tuscaloosa+77° Carrollton+72° Rome+77° Amory+77° Starkville+79° Anniston+75° Selma+73° Prattville+75° Florence+77° Gadsden+75° Hoover+77° Huntsville+81° Hatley+77° Adaton+79° world\\'s temperature today Temperature units\"}, {\"url\": \"https://world-weather.info/forecast/usa/huntsville_1/september-2024/\", \"content\": \"Extended weather forecast in Huntsville. Hourly Week 10 days 14 days 30 days Year. Detailed ⚡ Huntsville Weather Forecast for September 2024 - day/night 🌡️ temperatures, precipitations - World-Weather.info.\"}]', name='search', id='cc78bd8a-0f5f-4798-a324-08c4cdd4c289', tool_call_id='call_0a39EAh6vTXFZs77pAFihzGy'),\n",
       "  AIMessage(content='Today in Alabama, the weather is partly cloudy with a temperature of approximately 75°F (23.9°C). There is a light wind blowing from the east-northeast at about 4.3 mph (6.8 kph). The humidity is around 64%, and there is no expected precipitation. The forecast suggests that it feels slightly warmer, around 78°F (25.6°C). Overall, it seems to be a pleasant day in Alabama.', additional_kwargs={'refusal': None}, response_metadata={'token_usage': {'completion_tokens': 95, 'prompt_tokens': 2876, 'total_tokens': 2971, 'completion_tokens_details': {'reasoning_tokens': 0}}, 'model_name': 'gpt-4o-mini-2024-07-18', 'system_fingerprint': 'fp_1bb46167f9', 'finish_reason': 'stop', 'logprobs': None}, id='run-2b807670-ff64-428e-8e04-2c1e5e9b1bdf-0', usage_metadata={'input_tokens': 2876, 'output_tokens': 95, 'total_tokens': 2971})]}"
      ]
     },
     "execution_count": 17,
     "metadata": {},
     "output_type": "execute_result"
    }
   ],
   "source": [
    "response"
   ]
  },
  {
   "cell_type": "code",
   "execution_count": 20,
   "metadata": {},
   "outputs": [
    {
     "data": {
      "text/plain": [
       "AIMessage(content='Today in Alabama, the weather is partly cloudy with a temperature of approximately 75°F (23.9°C). There is a light wind blowing from the east-northeast at about 4.3 mph (6.8 kph). The humidity is around 64%, and there is no expected precipitation. The forecast suggests that it feels slightly warmer, around 78°F (25.6°C). Overall, it seems to be a pleasant day in Alabama.', additional_kwargs={'refusal': None}, response_metadata={'token_usage': {'completion_tokens': 95, 'prompt_tokens': 2876, 'total_tokens': 2971, 'completion_tokens_details': {'reasoning_tokens': 0}}, 'model_name': 'gpt-4o-mini-2024-07-18', 'system_fingerprint': 'fp_1bb46167f9', 'finish_reason': 'stop', 'logprobs': None}, id='run-2b807670-ff64-428e-8e04-2c1e5e9b1bdf-0', usage_metadata={'input_tokens': 2876, 'output_tokens': 95, 'total_tokens': 2971})"
      ]
     },
     "execution_count": 20,
     "metadata": {},
     "output_type": "execute_result"
    }
   ],
   "source": [
    "response['messages'][3].content"
   ]
  },
  {
   "cell_type": "code",
   "execution_count": 5,
   "metadata": {},
   "outputs": [],
   "source": [
    "async def get_stream(prompt):\n",
    "    result =  await graph.ainvoke({\"messages\": [HumanMessage(content=prompt)]})\n",
    "    return result"
   ]
  },
  {
   "cell_type": "code",
   "execution_count": 13,
   "metadata": {},
   "outputs": [],
   "source": [
    "response = get_stream(\"what is the weather in alabama today?\")\n",
    "\n"
   ]
  },
  {
   "cell_type": "code",
   "execution_count": 14,
   "metadata": {},
   "outputs": [
    {
     "ename": "TypeError",
     "evalue": "'coroutine' object is not subscriptable",
     "output_type": "error",
     "traceback": [
      "\u001b[0;31m---------------------------------------------------------------------------\u001b[0m",
      "\u001b[0;31mTypeError\u001b[0m                                 Traceback (most recent call last)",
      "Cell \u001b[0;32mIn[14], line 1\u001b[0m\n\u001b[0;32m----> 1\u001b[0m \u001b[38;5;28mprint\u001b[39m(\u001b[43mresponse\u001b[49m\u001b[43m[\u001b[49m\u001b[38;5;124;43m\"\u001b[39;49m\u001b[38;5;124;43mmessages\u001b[39;49m\u001b[38;5;124;43m\"\u001b[39;49m\u001b[43m]\u001b[49m[\u001b[38;5;241m1\u001b[39m]\u001b[38;5;241m.\u001b[39mcontent)\n",
      "\u001b[0;31mTypeError\u001b[0m: 'coroutine' object is not subscriptable"
     ]
    }
   ],
   "source": [
    "print(response[\"messages\"][1].content)"
   ]
  }
 ],
 "metadata": {
  "kernelspec": {
   "display_name": "kgchat",
   "language": "python",
   "name": "python3"
  },
  "language_info": {
   "codemirror_mode": {
    "name": "ipython",
    "version": 3
   },
   "file_extension": ".py",
   "mimetype": "text/x-python",
   "name": "python",
   "nbconvert_exporter": "python",
   "pygments_lexer": "ipython3",
   "version": "3.11.8"
  }
 },
 "nbformat": 4,
 "nbformat_minor": 2
}
